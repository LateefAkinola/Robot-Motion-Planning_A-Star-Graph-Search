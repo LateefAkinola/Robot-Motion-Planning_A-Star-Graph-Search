{
 "cells": [
  {
   "cell_type": "code",
   "execution_count": 1,
   "metadata": {},
   "outputs": [],
   "source": [
    "def read_csv_to_list(filepath):\n",
    "    import numpy as np\n",
    "    \n",
    "    list = []\n",
    "    with open(filepath) as openfile:\n",
    "        for line in openfile.readlines():\n",
    "            if \"#\" not in line:\n",
    "                list.append([float(value) for value in line.replace('\\n', '').split(',')])\n",
    "    return list"
   ]
  },
  {
   "cell_type": "code",
   "execution_count": 2,
   "metadata": {},
   "outputs": [],
   "source": [
    "def read_list_to_csv(filename, list):\n",
    "    import csv\n",
    "\n",
    "    with open(filename, \"w\", newline='') as writefile:\n",
    "        csv.writer(writefile).writerow(list)"
   ]
  },
  {
   "cell_type": "code",
   "execution_count": 3,
   "metadata": {},
   "outputs": [],
   "source": [
    "def A_star_search(nodes, edges):\n",
    "    import numpy as np\n",
    "\n",
    "    '''\n",
    "    Function to find and print an optimal path using the A* algorithm\n",
    "    If path is found, it saves as \"path.csv\" \n",
    "\n",
    "    input:\n",
    "    nodes : a list of nodes; each of the form [ID,x,y,heuristic-cost-to-go]\n",
    "    edges : a list of edges; each of the form [ID1,ID2,cost] \n",
    "\n",
    "    Returns:\n",
    "    path : returns a list of the form [ID1,ID2,...] if part is found; else: \n",
    "           returns 1\n",
    "    '''\n",
    "\n",
    "    # Initializing key variables\n",
    "    nodes_matrix = np.array(nodes)\n",
    "    N = nodes_matrix.shape[0]\n",
    "    OPEN =[]\n",
    "    CLOSED = []\n",
    "    past_cost = np.zeros(N) + np.inf\n",
    "    past_cost[0] = 0.\n",
    "    est_total_cost = np.zeros(N)\n",
    "    parent = np.zeros(N)\n",
    "    current = 0\n",
    "\n",
    "    # Append Start Node to OPEN\n",
    "    node = nodes[0][0]\n",
    "    ctg = nodes[0][-1]\n",
    "    est_total_cost[0] = past_cost[0] + ctg\n",
    "    OPEN.append([node, est_total_cost[0]])\n",
    "\n",
    "    #THE LOOP\n",
    "    while len(OPEN) != 0:      \n",
    "        current = int(OPEN[0][0])\n",
    "        OPEN.pop(0)\n",
    "        CLOSED.append(current)\n",
    "          \n",
    "        if current==(nodes[-1][0]):\n",
    "            path_hist = []      # Instantiate a list of path history\n",
    "            current = int(current)\n",
    "            while current != 1:\n",
    "                path_hist.append(current)\n",
    "                current = parent[int(current)-1]\n",
    "            if current == 1:\n",
    "                path_hist.append(current)\n",
    "            path = np.zeros(len(path_hist))\n",
    "            for i in range(len(path)):\n",
    "                hist = int(path_hist[len(path)-i-1])\n",
    "                path[i] = hist\n",
    "            \n",
    "            # uses the predefined function to save path as csv file\n",
    "            read_list_to_csv(\"path.csv\", path)\n",
    "            print(f\"The Optimal Path is: {path}\")\n",
    "            return path\n",
    "        \n",
    "        # Make a list of connected nodes not in CLOSED list\n",
    "        con_list = []\n",
    "        for edge in edges:\n",
    "            if edge[0] == current:\n",
    "                con_list.append(edge[1])\n",
    "            if edge[1] == current:\n",
    "                con_list.append(edge[0])\n",
    "        con_list = list(set(con_list) - set(CLOSED))\n",
    "\n",
    "        # Calculate the total cost for neighbouring nodes\n",
    "        for nbr in con_list:\n",
    "            for edge in edges:\n",
    "                if (edge[1]==nbr and edge[0]==current) or (edge[1]==current and edge[0] == nbr):\n",
    "                    nbr = int(nbr)\n",
    "                    tentative_past_cost = past_cost[int(current)-1] + edge[-1]\n",
    "                    if tentative_past_cost < past_cost[nbr-1]:\n",
    "                        past_cost[nbr-1] = tentative_past_cost\n",
    "                        parent[nbr-1] = current\n",
    "                        h_ctg = nodes[nbr-1][-1]\n",
    "                        est_total_cost[nbr-1] = past_cost[nbr-1] + h_ctg\n",
    "                        OPEN.append([nbr, est_total_cost[nbr-1]])\n",
    "\n",
    "                        # Sort OPEN list according to the est_total_cost\n",
    "                        OPEN = sorted(OPEN, key=lambda x:x[-1])\n",
    "    \n",
    "    #If no optimal path is found:\n",
    "    path=1\n",
    "    print(f\"The Optimal Path is: {path}, The robot goes no where\")\n",
    "    return path"
   ]
  },
  {
   "cell_type": "code",
   "execution_count": 10,
   "metadata": {},
   "outputs": [
    {
     "name": "stdout",
     "output_type": "stream",
     "text": [
      "The Optimal Path is: [ 1.  2.  5.  7. 10. 12.]\n"
     ]
    },
    {
     "data": {
      "text/plain": [
       "array([ 1.,  2.,  5.,  7., 10., 12.])"
      ]
     },
     "execution_count": 10,
     "metadata": {},
     "output_type": "execute_result"
    }
   ],
   "source": [
    "# CALLING THE FUNCTIONS\n",
    "\n",
    "nodes = read_csv_to_list(\"nodes.csv\")\n",
    "edges = read_csv_to_list(\"edges.csv\")\n",
    "A_star_search(nodes, edges)"
   ]
  }
 ],
 "metadata": {
  "kernelspec": {
   "display_name": "Python 3.10.3 64-bit",
   "language": "python",
   "name": "python3"
  },
  "language_info": {
   "codemirror_mode": {
    "name": "ipython",
    "version": 3
   },
   "file_extension": ".py",
   "mimetype": "text/x-python",
   "name": "python",
   "nbconvert_exporter": "python",
   "pygments_lexer": "ipython3",
   "version": "3.10.3"
  },
  "orig_nbformat": 4,
  "vscode": {
   "interpreter": {
    "hash": "574519ca09b26aca22fcbd258939ca899adfc49e01be43018cd5e5ed113a2a51"
   }
  }
 },
 "nbformat": 4,
 "nbformat_minor": 2
}
